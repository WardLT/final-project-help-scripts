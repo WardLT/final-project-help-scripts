{
 "cells": [
  {
   "cell_type": "markdown",
   "id": "c70f958e-5c94-4e43-898e-b918306e2bb0",
   "metadata": {},
   "source": [
    "# Computing Energies with Second Calculator\n",
    "As part of this assignment, our team is using the [ISO17 dataset](http://quantum-machine.org/datasets/) which already has the DFT energies and forces for a bunch of molecules.\n",
    "\n",
    "Here, we show how to read those structures from ASE and compute a new set of energies"
   ]
  },
  {
   "cell_type": "code",
   "execution_count": 1,
   "id": "7a155d62-184b-4790-b443-4f0a47897f36",
   "metadata": {},
   "outputs": [],
   "source": [
    "from ase.db import connect\n",
    "from random import random\n",
    "from tqdm import tqdm\n",
    "import pandas as pd\n",
    "import torchani"
   ]
  },
  {
   "cell_type": "markdown",
   "id": "361f5a02-cc53-4cf6-88e6-0d57fca0377a",
   "metadata": {},
   "source": [
    "Random subset"
   ]
  },
  {
   "cell_type": "code",
   "execution_count": 2,
   "id": "4a1961bf-d025-4149-987a-f3172073a3ae",
   "metadata": {},
   "outputs": [],
   "source": [
    "select_fraction = 0.1  # Get only these many molecules"
   ]
  },
  {
   "cell_type": "markdown",
   "id": "52fa7aa7-7663-49d0-969e-7aac84e487bd",
   "metadata": {},
   "source": [
    "## Connect to the database\n",
    "The training data is held in an ASE database, from which we can read out data in the ASE atoms format."
   ]
  },
  {
   "cell_type": "code",
   "execution_count": 3,
   "id": "f0f3852d-3a25-4e57-bbbe-0ed22b963977",
   "metadata": {},
   "outputs": [
    {
     "name": "stdout",
     "output_type": "stream",
     "text": [
      "Connected to a databae with 404000 entries\n"
     ]
    }
   ],
   "source": [
    "db = connect('iso17/reference.db')\n",
    "print(f'Connected to a databae with {len(db)} entries')"
   ]
  },
  {
   "cell_type": "markdown",
   "id": "d23766f8-d042-44ab-a6da-fcff5a5078b1",
   "metadata": {},
   "source": [
    "You can run queries on this database and loop through it"
   ]
  },
  {
   "cell_type": "code",
   "execution_count": 4,
   "id": "bcab3a18-f754-479d-9a2d-76d9d8fbfd96",
   "metadata": {},
   "outputs": [],
   "source": [
    "for row in db.select(limit=10):\n",
    "    continue"
   ]
  },
  {
   "cell_type": "markdown",
   "id": "c356df63-0512-4ab3-9ec8-03b4de232437",
   "metadata": {},
   "source": [
    "Get row contains information about a specific conformation of a molecule, such as its position and energy"
   ]
  },
  {
   "cell_type": "code",
   "execution_count": 5,
   "id": "ee76be67-b05c-49df-bca4-0b678ac8febf",
   "metadata": {},
   "outputs": [
    {
     "data": {
      "text/plain": [
       "array([[-3.11646501,  1.89986285,  3.0495241 ],\n",
       "       [-2.21817165,  1.97908439,  1.99830164],\n",
       "       [-0.78832964,  1.38052355,  2.12453068],\n",
       "       [-0.68239071,  1.35022847,  0.59146194],\n",
       "       [-0.2802637 ,  0.01290723, -0.06247984],\n",
       "       [-0.13454049,  2.60224892, -0.10084665],\n",
       "       [-1.05225141,  3.67823066,  0.31274451],\n",
       "       [-2.31316433,  2.91253363,  0.70081334],\n",
       "       [-2.28285394,  1.40649469,  0.52789212],\n",
       "       [-2.71081245,  1.2190427 ,  3.61083382],\n",
       "       [-0.06270836,  1.91015879,  2.8383502 ],\n",
       "       [-0.84189361,  0.39963048,  2.46140193],\n",
       "       [ 0.59547256,  0.09324091, -0.41709544],\n",
       "       [ 0.841095  ,  2.85777003,  0.14659712],\n",
       "       [-0.36648051,  2.44966582, -1.20104078],\n",
       "       [-0.68128343,  4.15640562,  1.1964438 ],\n",
       "       [-1.29154858,  4.38039313, -0.47507581],\n",
       "       [-3.24327275,  3.43178577,  0.65829838],\n",
       "       [-2.81851911,  0.66727706, -0.10936832]])"
      ]
     },
     "execution_count": 5,
     "metadata": {},
     "output_type": "execute_result"
    }
   ],
   "source": [
    "row.positions"
   ]
  },
  {
   "cell_type": "code",
   "execution_count": 6,
   "id": "50ea7cc3-1084-4533-965a-76a3f8a61e2e",
   "metadata": {},
   "outputs": [
    {
     "data": {
      "text/plain": [
       "-11504.0223943466"
      ]
     },
     "execution_count": 6,
     "metadata": {},
     "output_type": "execute_result"
    }
   ],
   "source": [
    "row.total_energy"
   ]
  },
  {
   "cell_type": "markdown",
   "id": "4addc655-57f3-433f-9530-e1f56271883e",
   "metadata": {},
   "source": [
    "It is often convenient to just combine them into an [Atoms object](https://wiki.fysik.dtu.dk/ase/ase/atoms.html) we can manipulate easily."
   ]
  },
  {
   "cell_type": "code",
   "execution_count": 7,
   "id": "801dab57-c84f-4444-957f-58bc1ede3daa",
   "metadata": {},
   "outputs": [
    {
     "data": {
      "text/plain": [
       "Atoms(symbols='OC3OC4H10', pbc=False)"
      ]
     },
     "execution_count": 7,
     "metadata": {},
     "output_type": "execute_result"
    }
   ],
   "source": [
    "atoms = row.toatoms()\n",
    "atoms"
   ]
  },
  {
   "cell_type": "markdown",
   "id": "48473a02-3200-4e38-8722-1ef1b2ba8689",
   "metadata": {},
   "source": [
    "## Computing new Energies\n",
    "We can use the Atoms object from each row to compute new properties, such as by using the interatomic potential from TorchANI to generate a different energy."
   ]
  },
  {
   "cell_type": "code",
   "execution_count": 8,
   "id": "1647f5eb-7882-4f23-8322-791dd8f1ce6e",
   "metadata": {},
   "outputs": [
    {
     "name": "stderr",
     "output_type": "stream",
     "text": [
      "C:\\Users\\wardl\\miniconda3\\envs\\applied-ai\\lib\\site-packages\\torch\\functional.py:1069: UserWarning: torch.meshgrid: in an upcoming release, it will be required to pass the indexing argument. (Triggered internally at  ..\\aten\\src\\ATen\\native\\TensorShape.cpp:2157.)\n",
      "  return _VF.cartesian_prod(tensors)  # type: ignore[attr-defined]\n"
     ]
    }
   ],
   "source": [
    "calc = torchani.models.ANI2x().ase()"
   ]
  },
  {
   "cell_type": "code",
   "execution_count": 9,
   "id": "f96143ca-0035-427a-9a91-97ad5a3373f9",
   "metadata": {},
   "outputs": [
    {
     "name": "stdout",
     "output_type": "stream",
     "text": [
      "The DFT energy for this geometry is -11504.02 and the ANI energy is -11509.91\n"
     ]
    },
    {
     "name": "stderr",
     "output_type": "stream",
     "text": [
      "C:\\Users\\wardl\\miniconda3\\envs\\applied-ai\\lib\\site-packages\\torchani\\ase.py:51: UserWarning: Creating a tensor from a list of numpy.ndarrays is extremely slow. Please consider converting the list to a single numpy.ndarray with numpy.array() before converting to a tensor. (Triggered internally at  ..\\torch\\csrc\\utils\\tensor_new.cpp:201.)\n",
      "  dtype=self.dtype, device=self.device)\n",
      "C:\\Users\\wardl\\miniconda3\\envs\\applied-ai\\lib\\site-packages\\torchani\\aev.py:236: UserWarning: __floordiv__ is deprecated, and its behavior will change in a future version of pytorch. It currently rounds toward 0 (like the 'trunc' function NOT 'floor'). This results in incorrect rounding for negative values. To keep the current behavior, use torch.div(a, b, rounding_mode='trunc'), or for actual floor division, use torch.div(a, b, rounding_mode='floor').\n",
      "  pair_sizes = counts * (counts - 1) // 2\n"
     ]
    }
   ],
   "source": [
    "new_energy = calc.get_potential_energy(atoms)\n",
    "print(f'The DFT energy for this geometry is {row.total_energy:.2f} and the ANI energy is {new_energy:.2f}')"
   ]
  },
  {
   "cell_type": "markdown",
   "id": "192c7e75-6214-4927-9af7-f0b685622891",
   "metadata": {},
   "source": [
    "## Combining it together\n",
    "Let's make a big array where we store all of energies"
   ]
  },
  {
   "cell_type": "code",
   "execution_count": 10,
   "id": "771a349c-4d34-4fb9-a537-f9c2536b8d26",
   "metadata": {},
   "outputs": [
    {
     "name": "stderr",
     "output_type": "stream",
     "text": [
      "  0%|▍                                                                                                                                                                                              | 1000/404000 [00:08<58:15, 115.30it/s]\n"
     ]
    }
   ],
   "source": [
    "data = []\n",
    "for row in tqdm(db.select(limit=1000), total=db.count()):  # Remove limit if you want to read the whole dataset\n",
    "    # Skip a certain proportion of the entries\n",
    "    if random() < select_fraction:\n",
    "        continue\n",
    "        \n",
    "    # For those we don't skip, compute a new energy\n",
    "    atoms = row.toatoms()\n",
    "    ani_energy = calc.get_potential_energy(atoms)\n",
    "    \n",
    "    # Save them to a list\n",
    "    data.append({\n",
    "        'atoms': atoms,\n",
    "        'ani_energy': ani_energy,\n",
    "        'dft_energy': row.total_energy\n",
    "    })"
   ]
  },
  {
   "cell_type": "code",
   "execution_count": 11,
   "id": "16a0ed03-1cb6-4cb0-ad94-c8435d299b1f",
   "metadata": {},
   "outputs": [],
   "source": [
    "data = pd.DataFrame(data)"
   ]
  },
  {
   "cell_type": "markdown",
   "id": "5a979d42-2c27-491b-9254-c2ae858931a1",
   "metadata": {},
   "source": [
    "Now safe it to disk in Pickle format so that we can read them in later"
   ]
  },
  {
   "cell_type": "code",
   "execution_count": 12,
   "id": "58a69543-f823-4f94-b0ae-74294f5293f1",
   "metadata": {},
   "outputs": [],
   "source": [
    "data.to_pickle('train_data.pkl.gz')  # \".gz\" means that Pandas will compress this data for you (it's really nice!)"
   ]
  },
  {
   "cell_type": "code",
   "execution_count": null,
   "id": "d1a73a58-1ca6-41ad-a6d2-8131e33c6732",
   "metadata": {},
   "outputs": [],
   "source": []
  }
 ],
 "metadata": {
  "kernelspec": {
   "display_name": "Python 3 (ipykernel)",
   "language": "python",
   "name": "python3"
  },
  "language_info": {
   "codemirror_mode": {
    "name": "ipython",
    "version": 3
   },
   "file_extension": ".py",
   "mimetype": "text/x-python",
   "name": "python",
   "nbconvert_exporter": "python",
   "pygments_lexer": "ipython3",
   "version": "3.7.11"
  }
 },
 "nbformat": 4,
 "nbformat_minor": 5
}
