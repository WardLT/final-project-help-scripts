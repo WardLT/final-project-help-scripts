{
 "cells": [
  {
   "cell_type": "markdown",
   "id": "sharp-avatar",
   "metadata": {},
   "source": [
    "# Making 2D and 3D training sets\n",
    "The goal here is to take a copy of the QM9 dataset and save two versions: one with the DFT geometries and another with 2D geometries created with RDKit."
   ]
  },
  {
   "cell_type": "code",
   "execution_count": 1,
   "id": "unusual-advisory",
   "metadata": {},
   "outputs": [],
   "source": [
    "%matplotlib inline\n",
    "from schnetpack.data import AtomsData\n",
    "from matplotlib import pyplot as plt\n",
    "from rdkit.Chem import AllChem\n",
    "from rdkit import Chem\n",
    "from ase.db import connect\n",
    "from ase.io.xyz import read_xyz\n",
    "from typing import List\n",
    "from pathlib import Path\n",
    "from io import StringIO\n",
    "from tqdm import tqdm\n",
    "import pandas as pd\n",
    "import numpy as np"
   ]
  },
  {
   "cell_type": "markdown",
   "id": "01c72161-4e84-4351-a14f-50b5acc8895e",
   "metadata": {},
   "source": [
    "Configuration"
   ]
  },
  {
   "cell_type": "code",
   "execution_count": 2,
   "id": "cc1f3cd1-da71-45ef-b7e9-c3cafdbd00f6",
   "metadata": {},
   "outputs": [],
   "source": [
    "qm9_path = '../../../JCESR/g4mp2-atomization-energy/data/output/g4mp2_data.json.gz'"
   ]
  },
  {
   "cell_type": "markdown",
   "id": "3294ab11-2559-4c25-aa19-0652337eb8c5",
   "metadata": {},
   "source": [
    "## Load the QM9 dataset\n",
    "I'm using a copy I prepared [in another project](https://github.com/globus-labs/g4mp2-atomization-energy)"
   ]
  },
  {
   "cell_type": "code",
   "execution_count": 3,
   "id": "e84c73dd-a930-4e43-84e7-f4a715bff6e6",
   "metadata": {},
   "outputs": [],
   "source": [
    "qm9 = pd.read_json(qm9_path, lines=True)"
   ]
  },
  {
   "cell_type": "markdown",
   "id": "1a9ae767-baa2-4599-9320-a17a25cb0ce7",
   "metadata": {},
   "source": [
    "## Save a 3D version\n",
    "[SchNetPack](https://schnetpack.readthedocs.io/en/stable/) requires data to be saved in a [special `AtomsData` format](https://schnetpack.readthedocs.io/en/stable/tutorials/tutorial_01_preparing_data.html#Preparing-your-own-data).\n",
    "That database requires the molecular geometries to be stored as ASE atoms objects, \n",
    "and the properties to be provided as a dictionary with at least 1D arrays. \n",
    "\n",
    "For convenience, we'll make a function that takes our Pandas dataframe and saves it into an Atoms database\n"
   ]
  },
  {
   "cell_type": "code",
   "execution_count": 4,
   "id": "b413870a-262f-468b-83c8-dc6adb76f688",
   "metadata": {},
   "outputs": [],
   "source": [
    "def to_spk_db(path: str, data: pd.DataFrame, xyz_col: str = 'xyz', property_cols: List[str] = ('u0', 'bandgap')):\n",
    "    \"\"\"Convert a pandas dataframe to a SchNetPack database\n",
    "    \n",
    "    Args:\n",
    "        path: Path to the ase database\n",
    "        data: Dataframe containing geometries and properties\n",
    "        xyz_col: Column holding the XYZ-format molecular geometry\n",
    "        proprety_cols: Names of the columns holding the properties\n",
    "    \"\"\"\n",
    "    \n",
    "    # Make sure the database doesn't exist already\n",
    "    path = Path(path)\n",
    "    if path.is_file():\n",
    "        path.unlink()  # Deletes the file if it exists\n",
    "    \n",
    "    # Convert the XYZ\n",
    "    atoms = data['xyz'].apply(lambda x: next(read_xyz(StringIO(x), slice(None))))\n",
    "    \n",
    "    # Convert the properties to the format needed for SchNetPack (SPK) -\n",
    "    #  single dictionary per molecule and the property as a 1D array\n",
    "    properties = [{col: np.atleast_1d(row[col]) for col in property_cols} for _, row in data.iterrows()]\n",
    "    \n",
    "    # Add them to a database\n",
    "    db = AtomsData(str(path), available_properties=property_cols)\n",
    "    db.add_systems(atoms, properties)\n",
    "    return db"
   ]
  },
  {
   "cell_type": "code",
   "execution_count": 5,
   "id": "942a340f-d6e7-49a1-8d4f-f4b177247fe5",
   "metadata": {},
   "outputs": [
    {
     "name": "stdout",
     "output_type": "stream",
     "text": [
      "Wall time: 6min 13s\n"
     ]
    },
    {
     "data": {
      "text/plain": [
       "<schnetpack.data.atoms.AtomsData at 0x2380c200188>"
      ]
     },
     "execution_count": 5,
     "metadata": {},
     "output_type": "execute_result"
    }
   ],
   "source": [
    "%%time\n",
    "to_spk_db('3d_qm9.db', qm9)"
   ]
  },
  {
   "cell_type": "markdown",
   "id": "innovative-antigua",
   "metadata": {},
   "source": [
    "## Save a 2D Version\n",
    "RDKit can generate 2D coordinates for molecules. To use them with SchNetPack, we'll first make a function that returns the molecules as an XYZ format that we can use with the \"save to SPK\" function above."
   ]
  },
  {
   "cell_type": "code",
   "execution_count": 6,
   "id": "isolated-wiring",
   "metadata": {},
   "outputs": [
    {
     "name": "stdout",
     "output_type": "stream",
     "text": [
      "12\n",
      "c1ccccc1\n",
      "C 1.5000000000000004 1.4802973661668753e-16 0.0\n",
      "C 0.7499999999999993 -1.2990381056766584 0.0\n",
      "C -0.7500000000000006 -1.2990381056766578 0.0\n",
      "C -1.5 3.317267564887905e-16 0.0\n",
      "C -0.7499999999999996 1.2990381056766584 0.0\n",
      "C 0.7500000000000006 1.2990381056766582 0.0\n",
      "H 3.0 3.700743415417188e-16 0.0\n",
      "H 1.4999999999999996 -2.598076211353318 0.0\n",
      "H -1.5000000000000007 -2.5980762113533156 0.0\n",
      "H -3.0 5.921189464667501e-16 0.0\n",
      "H -1.4999999999999998 2.598076211353316 0.0\n",
      "H 1.5000000000000007 2.598076211353316 0.0\n",
      "\n"
     ]
    }
   ],
   "source": [
    "def generate_2d_xyz(smiles: str) -> str:\n",
    "    \"\"\"Generate an XYZ file with 2D coordinates of a molecule\n",
    "    \n",
    "    Args:\n",
    "        smiles: SMILES string of a molecule\n",
    "    Returns:\n",
    "        An XYZ file\n",
    "    \"\"\"\n",
    "    \n",
    "    # Parse the molecule\n",
    "    mol = Chem.MolFromSmiles(smiles)\n",
    "    mol = Chem.AddHs(mol)\n",
    "    \n",
    "    # Generate the 2D coordinates of the molecule\n",
    "    AllChem.Compute2DCoords(mol)\n",
    "        \n",
    "    # Save geometry as 3D coordinates\n",
    "    xyz = f\"{mol.GetNumAtoms()}\\n\"\n",
    "    xyz += smiles + \"\\n\"\n",
    "    conf = mol.GetConformer()\n",
    "    for i, a in enumerate(mol.GetAtoms()):\n",
    "        s = a.GetSymbol()\n",
    "        c = conf.GetAtomPosition(i)\n",
    "        xyz += f\"{s} {c[0]} {c[1]} {c[2]}\\n\"\n",
    "    return xyz\n",
    "print(generate_2d_xyz('c1ccccc1'))"
   ]
  },
  {
   "cell_type": "markdown",
   "id": "d4633f4f-4882-42da-8f11-e7fe39713cd9",
   "metadata": {},
   "source": [
    "Generate them for all molecules in a dataset"
   ]
  },
  {
   "cell_type": "code",
   "execution_count": 7,
   "id": "corrected-lincoln",
   "metadata": {},
   "outputs": [
    {
     "name": "stderr",
     "output_type": "stream",
     "text": [
      "100%|███████████████████████████████████████████████████████████████████████████████████████████████████████████████████████████████████████████████████████| 130258/130258 [02:02<00:00, 1060.58it/s]\n"
     ]
    }
   ],
   "source": [
    "qm9['xyz_2d'] = [generate_2d_xyz(x) for x in tqdm(qm9['smiles_0'])]"
   ]
  },
  {
   "cell_type": "markdown",
   "id": "7a23938f-7ba1-41b9-8329-5d4eb4e449fd",
   "metadata": {},
   "source": [
    "Save the 2D data to disk"
   ]
  },
  {
   "cell_type": "code",
   "execution_count": 8,
   "id": "7affc0ff-d253-44ac-ba13-fcc167d1a260",
   "metadata": {},
   "outputs": [
    {
     "name": "stdout",
     "output_type": "stream",
     "text": [
      "Wall time: 4min 10s\n"
     ]
    },
    {
     "data": {
      "text/plain": [
       "<schnetpack.data.atoms.AtomsData at 0x2380c1f73c8>"
      ]
     },
     "execution_count": 8,
     "metadata": {},
     "output_type": "execute_result"
    }
   ],
   "source": [
    "%%time\n",
    "to_spk_db('2d_qm9.db', qm9, xyz_col='xyz_2d')"
   ]
  },
  {
   "cell_type": "code",
   "execution_count": null,
   "id": "8b88a92a-d28c-4066-8934-231f5dc247fb",
   "metadata": {},
   "outputs": [],
   "source": []
  }
 ],
 "metadata": {
  "kernelspec": {
   "display_name": "Python 3 (ipykernel)",
   "language": "python",
   "name": "python3"
  },
  "language_info": {
   "codemirror_mode": {
    "name": "ipython",
    "version": 3
   },
   "file_extension": ".py",
   "mimetype": "text/x-python",
   "name": "python",
   "nbconvert_exporter": "python",
   "pygments_lexer": "ipython3",
   "version": "3.7.11"
  }
 },
 "nbformat": 4,
 "nbformat_minor": 5
}
