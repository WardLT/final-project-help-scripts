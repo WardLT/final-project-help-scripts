{
 "cells": [
  {
   "cell_type": "markdown",
   "id": "c27f7b01-c7d8-4599-b40e-ae51a0ffb733",
   "metadata": {},
   "source": [
    "# Parsing Element Compositions\n",
    "This notebook shows how to load a dataset of elemental composition then computing fractions of each element.\n",
    "\n",
    "We're going to use [matminer](https://github.com/hackingmaterials/matminer) to do this, which is also a good route [for computing other features](https://github.com/hackingmaterials/matminer_examples/blob/main/matminer_examples/machine_learning-nb/formation_e.ipynb)."
   ]
  },
  {
   "cell_type": "code",
   "execution_count": 1,
   "id": "8180a7ab-9d36-40cd-9ff3-69848e4c9ff3",
   "metadata": {},
   "outputs": [],
   "source": [
    "from matminer.featurizers.composition import ElementFraction\n",
    "from matminer.featurizers.conversions import StrToComposition\n",
    "from pymatgen import Composition\n",
    "import pandas as pd\n",
    "import numpy as np"
   ]
  },
  {
   "cell_type": "markdown",
   "id": "2457ddfc-4c22-4223-a59e-10b2e16b7b88",
   "metadata": {},
   "source": [
    "## Make some example data.\n",
    "We'll just make some easy compositions to start with"
   ]
  },
  {
   "cell_type": "code",
   "execution_count": 2,
   "id": "7df65542-2af8-4c98-84dc-c0165455a885",
   "metadata": {},
   "outputs": [
    {
     "data": {
      "text/html": [
       "<div>\n",
       "<style scoped>\n",
       "    .dataframe tbody tr th:only-of-type {\n",
       "        vertical-align: middle;\n",
       "    }\n",
       "\n",
       "    .dataframe tbody tr th {\n",
       "        vertical-align: top;\n",
       "    }\n",
       "\n",
       "    .dataframe thead th {\n",
       "        text-align: right;\n",
       "    }\n",
       "</style>\n",
       "<table border=\"1\" class=\"dataframe\">\n",
       "  <thead>\n",
       "    <tr style=\"text-align: right;\">\n",
       "      <th></th>\n",
       "      <th>formula</th>\n",
       "    </tr>\n",
       "  </thead>\n",
       "  <tbody>\n",
       "    <tr>\n",
       "      <th>0</th>\n",
       "      <td>NaCl</td>\n",
       "    </tr>\n",
       "    <tr>\n",
       "      <th>1</th>\n",
       "      <td>F2O3</td>\n",
       "    </tr>\n",
       "    <tr>\n",
       "      <th>2</th>\n",
       "      <td>Ba(NO3)2</td>\n",
       "    </tr>\n",
       "  </tbody>\n",
       "</table>\n",
       "</div>"
      ],
      "text/plain": [
       "    formula\n",
       "0      NaCl\n",
       "1      F2O3\n",
       "2  Ba(NO3)2"
      ]
     },
     "execution_count": 2,
     "metadata": {},
     "output_type": "execute_result"
    }
   ],
   "source": [
    "data = pd.DataFrame({'formula': ['NaCl', 'F2O3', 'Ba(NO3)2']})\n",
    "data"
   ]
  },
  {
   "cell_type": "markdown",
   "id": "d564c583-0270-4862-9f21-b66b07ca51e7",
   "metadata": {},
   "source": [
    "## Parsing the compositions\n",
    "The first thing we need to do before computing element fractions is parse the data from a string to the [pymatgen `Composition` object](https://pymatgen.org/pymatgen.core.composition.html#pymatgen.core.composition.Composition)."
   ]
  },
  {
   "cell_type": "code",
   "execution_count": 3,
   "id": "a7a71dce-e58a-4076-9c66-bd9e77373ff1",
   "metadata": {},
   "outputs": [
    {
     "data": {
      "text/plain": [
       "Comp: Fe1 O1"
      ]
     },
     "execution_count": 3,
     "metadata": {},
     "output_type": "execute_result"
    }
   ],
   "source": [
    "comp = Composition('FeO')\n",
    "comp"
   ]
  },
  {
   "cell_type": "markdown",
   "id": "597ab43d-0711-4c16-9bc3-dfc2f255571b",
   "metadata": {},
   "source": [
    "These object possess a lot of functions used to study inorganic compositions (kind of like what RDKit does for molecules)."
   ]
  },
  {
   "cell_type": "code",
   "execution_count": 4,
   "id": "249d4d71-750d-437a-af14-2f49e286f965",
   "metadata": {},
   "outputs": [
    {
     "data": {
      "text/plain": [
       "0.7773048421310499"
      ]
     },
     "execution_count": 4,
     "metadata": {},
     "output_type": "execute_result"
    }
   ],
   "source": [
    "comp.get_wt_fraction('Fe')"
   ]
  },
  {
   "cell_type": "markdown",
   "id": "8884db36-dd68-41c8-b88c-7642c2ebe6ed",
   "metadata": {},
   "source": [
    "Matminer provides the ability to parse these compositions in a dataframe automatically.\n",
    "\n",
    "Create the \"converstion tool\" and then call \"featurize_many\" to run the conversion for every entry in the column"
   ]
  },
  {
   "cell_type": "code",
   "execution_count": 5,
   "id": "ba57a4b0-60d5-4a28-b909-7281a4f74d62",
   "metadata": {},
   "outputs": [],
   "source": [
    "feat = StrToComposition()\n",
    "feat.featurize_dataframe(data, 'formula', pbar=False, inplace=True)  # Give it the data and the column to be parsed"
   ]
  },
  {
   "cell_type": "code",
   "execution_count": 6,
   "id": "58133635-9345-4309-9416-2ad16ef03a97",
   "metadata": {},
   "outputs": [
    {
     "name": "stdout",
     "output_type": "stream",
     "text": [
      "The composition of Ba(NO3)2 was parsed to Ba1 N2 O6\n"
     ]
    }
   ],
   "source": [
    "last = data.iloc[-1]\n",
    "print(f'The composition of {last[\"formula\"]} was parsed to {last[\"composition\"]}')"
   ]
  },
  {
   "cell_type": "markdown",
   "id": "346028f6-c8e9-43e3-9650-573c4333145a",
   "metadata": {},
   "source": [
    "Note how it does nice things, like respect parentheses."
   ]
  },
  {
   "cell_type": "markdown",
   "id": "4a051a8c-83b0-450c-b1a6-22b5199dd72c",
   "metadata": {},
   "source": [
    "## Computing element fractions\n",
    "There is a similar \"featurizer\" for computing element fractions"
   ]
  },
  {
   "cell_type": "code",
   "execution_count": 7,
   "id": "a45e47d8-b6ef-4704-bab8-4fa30a336a9c",
   "metadata": {},
   "outputs": [],
   "source": [
    "feat = ElementFraction()"
   ]
  },
  {
   "cell_type": "code",
   "execution_count": 8,
   "id": "ecf89540-a12a-45d7-9a5a-470bb1d3b633",
   "metadata": {},
   "outputs": [
    {
     "name": "stderr",
     "output_type": "stream",
     "text": [
      "C:\\Users\\wardl\\miniconda3\\envs\\applied-ai\\lib\\site-packages\\pandas\\core\\frame.py:3641: PerformanceWarning: DataFrame is highly fragmented.  This is usually the result of calling `frame.insert` many times, which has poor performance.  Consider joining all columns at once using pd.concat(axis=1) instead.  To get a de-fragmented frame, use `newframe = frame.copy()`\n",
      "  self[k1] = value[k2]\n"
     ]
    }
   ],
   "source": [
    "feat.featurize_dataframe(data, 'composition', pbar=False, inplace=True)"
   ]
  },
  {
   "cell_type": "markdown",
   "id": "674a8696-bde1-4efb-a1d9-278dc88bc9cc",
   "metadata": {},
   "source": [
    "Note how it now contains columns named after the elements"
   ]
  },
  {
   "cell_type": "code",
   "execution_count": 9,
   "id": "157e706c-4099-4acf-9e96-0450946d8814",
   "metadata": {},
   "outputs": [
    {
     "data": {
      "text/html": [
       "<div>\n",
       "<style scoped>\n",
       "    .dataframe tbody tr th:only-of-type {\n",
       "        vertical-align: middle;\n",
       "    }\n",
       "\n",
       "    .dataframe tbody tr th {\n",
       "        vertical-align: top;\n",
       "    }\n",
       "\n",
       "    .dataframe thead th {\n",
       "        text-align: right;\n",
       "    }\n",
       "</style>\n",
       "<table border=\"1\" class=\"dataframe\">\n",
       "  <thead>\n",
       "    <tr style=\"text-align: right;\">\n",
       "      <th></th>\n",
       "      <th>formula</th>\n",
       "      <th>composition</th>\n",
       "      <th>H</th>\n",
       "      <th>He</th>\n",
       "      <th>Li</th>\n",
       "      <th>Be</th>\n",
       "      <th>B</th>\n",
       "      <th>C</th>\n",
       "      <th>N</th>\n",
       "      <th>O</th>\n",
       "      <th>...</th>\n",
       "      <th>Pu</th>\n",
       "      <th>Am</th>\n",
       "      <th>Cm</th>\n",
       "      <th>Bk</th>\n",
       "      <th>Cf</th>\n",
       "      <th>Es</th>\n",
       "      <th>Fm</th>\n",
       "      <th>Md</th>\n",
       "      <th>No</th>\n",
       "      <th>Lr</th>\n",
       "    </tr>\n",
       "  </thead>\n",
       "  <tbody>\n",
       "    <tr>\n",
       "      <th>0</th>\n",
       "      <td>NaCl</td>\n",
       "      <td>(Na, Cl)</td>\n",
       "      <td>0</td>\n",
       "      <td>0</td>\n",
       "      <td>0</td>\n",
       "      <td>0</td>\n",
       "      <td>0</td>\n",
       "      <td>0</td>\n",
       "      <td>0.000000</td>\n",
       "      <td>0.000000</td>\n",
       "      <td>...</td>\n",
       "      <td>0</td>\n",
       "      <td>0</td>\n",
       "      <td>0</td>\n",
       "      <td>0</td>\n",
       "      <td>0</td>\n",
       "      <td>0</td>\n",
       "      <td>0</td>\n",
       "      <td>0</td>\n",
       "      <td>0</td>\n",
       "      <td>0</td>\n",
       "    </tr>\n",
       "    <tr>\n",
       "      <th>1</th>\n",
       "      <td>F2O3</td>\n",
       "      <td>(F, O)</td>\n",
       "      <td>0</td>\n",
       "      <td>0</td>\n",
       "      <td>0</td>\n",
       "      <td>0</td>\n",
       "      <td>0</td>\n",
       "      <td>0</td>\n",
       "      <td>0.000000</td>\n",
       "      <td>0.600000</td>\n",
       "      <td>...</td>\n",
       "      <td>0</td>\n",
       "      <td>0</td>\n",
       "      <td>0</td>\n",
       "      <td>0</td>\n",
       "      <td>0</td>\n",
       "      <td>0</td>\n",
       "      <td>0</td>\n",
       "      <td>0</td>\n",
       "      <td>0</td>\n",
       "      <td>0</td>\n",
       "    </tr>\n",
       "    <tr>\n",
       "      <th>2</th>\n",
       "      <td>Ba(NO3)2</td>\n",
       "      <td>(Ba, N, O)</td>\n",
       "      <td>0</td>\n",
       "      <td>0</td>\n",
       "      <td>0</td>\n",
       "      <td>0</td>\n",
       "      <td>0</td>\n",
       "      <td>0</td>\n",
       "      <td>0.222222</td>\n",
       "      <td>0.666667</td>\n",
       "      <td>...</td>\n",
       "      <td>0</td>\n",
       "      <td>0</td>\n",
       "      <td>0</td>\n",
       "      <td>0</td>\n",
       "      <td>0</td>\n",
       "      <td>0</td>\n",
       "      <td>0</td>\n",
       "      <td>0</td>\n",
       "      <td>0</td>\n",
       "      <td>0</td>\n",
       "    </tr>\n",
       "  </tbody>\n",
       "</table>\n",
       "<p>3 rows × 105 columns</p>\n",
       "</div>"
      ],
      "text/plain": [
       "    formula composition  H  He  Li  Be  B  C         N         O  ...  Pu  Am  \\\n",
       "0      NaCl    (Na, Cl)  0   0   0   0  0  0  0.000000  0.000000  ...   0   0   \n",
       "1      F2O3      (F, O)  0   0   0   0  0  0  0.000000  0.600000  ...   0   0   \n",
       "2  Ba(NO3)2  (Ba, N, O)  0   0   0   0  0  0  0.222222  0.666667  ...   0   0   \n",
       "\n",
       "   Cm  Bk  Cf  Es  Fm  Md  No  Lr  \n",
       "0   0   0   0   0   0   0   0   0  \n",
       "1   0   0   0   0   0   0   0   0  \n",
       "2   0   0   0   0   0   0   0   0  \n",
       "\n",
       "[3 rows x 105 columns]"
      ]
     },
     "execution_count": 9,
     "metadata": {},
     "output_type": "execute_result"
    }
   ],
   "source": [
    "data"
   ]
  },
  {
   "cell_type": "markdown",
   "id": "69a13cc1-725a-4820-88f8-9b8651f9983b",
   "metadata": {},
   "source": [
    "You can get the names of the new columns from the Featurizer"
   ]
  },
  {
   "cell_type": "code",
   "execution_count": 10,
   "id": "5460bea8-8351-43d0-af95-cf0500954746",
   "metadata": {},
   "outputs": [
    {
     "data": {
      "text/plain": [
       "['H', 'He', 'Li', 'Be', 'B', 'C', 'N', 'O', 'F', 'Ne']"
      ]
     },
     "execution_count": 10,
     "metadata": {},
     "output_type": "execute_result"
    }
   ],
   "source": [
    "feat.feature_labels()[:10]"
   ]
  },
  {
   "cell_type": "markdown",
   "id": "9bd48a46-a88b-4491-902d-a8bb9bd2c51c",
   "metadata": {},
   "source": [
    "So, if you wanted to feed them to an ML algorithm"
   ]
  },
  {
   "cell_type": "code",
   "execution_count": 11,
   "id": "7570301d-e61e-40b2-b0a8-0915463bdb1f",
   "metadata": {},
   "outputs": [
    {
     "data": {
      "text/html": [
       "<div>\n",
       "<style scoped>\n",
       "    .dataframe tbody tr th:only-of-type {\n",
       "        vertical-align: middle;\n",
       "    }\n",
       "\n",
       "    .dataframe tbody tr th {\n",
       "        vertical-align: top;\n",
       "    }\n",
       "\n",
       "    .dataframe thead th {\n",
       "        text-align: right;\n",
       "    }\n",
       "</style>\n",
       "<table border=\"1\" class=\"dataframe\">\n",
       "  <thead>\n",
       "    <tr style=\"text-align: right;\">\n",
       "      <th></th>\n",
       "      <th>H</th>\n",
       "      <th>He</th>\n",
       "      <th>Li</th>\n",
       "      <th>Be</th>\n",
       "      <th>B</th>\n",
       "      <th>C</th>\n",
       "      <th>N</th>\n",
       "      <th>O</th>\n",
       "      <th>F</th>\n",
       "      <th>Ne</th>\n",
       "      <th>...</th>\n",
       "      <th>Pu</th>\n",
       "      <th>Am</th>\n",
       "      <th>Cm</th>\n",
       "      <th>Bk</th>\n",
       "      <th>Cf</th>\n",
       "      <th>Es</th>\n",
       "      <th>Fm</th>\n",
       "      <th>Md</th>\n",
       "      <th>No</th>\n",
       "      <th>Lr</th>\n",
       "    </tr>\n",
       "  </thead>\n",
       "  <tbody>\n",
       "    <tr>\n",
       "      <th>0</th>\n",
       "      <td>0</td>\n",
       "      <td>0</td>\n",
       "      <td>0</td>\n",
       "      <td>0</td>\n",
       "      <td>0</td>\n",
       "      <td>0</td>\n",
       "      <td>0.000000</td>\n",
       "      <td>0.000000</td>\n",
       "      <td>0.0</td>\n",
       "      <td>0</td>\n",
       "      <td>...</td>\n",
       "      <td>0</td>\n",
       "      <td>0</td>\n",
       "      <td>0</td>\n",
       "      <td>0</td>\n",
       "      <td>0</td>\n",
       "      <td>0</td>\n",
       "      <td>0</td>\n",
       "      <td>0</td>\n",
       "      <td>0</td>\n",
       "      <td>0</td>\n",
       "    </tr>\n",
       "    <tr>\n",
       "      <th>1</th>\n",
       "      <td>0</td>\n",
       "      <td>0</td>\n",
       "      <td>0</td>\n",
       "      <td>0</td>\n",
       "      <td>0</td>\n",
       "      <td>0</td>\n",
       "      <td>0.000000</td>\n",
       "      <td>0.600000</td>\n",
       "      <td>0.4</td>\n",
       "      <td>0</td>\n",
       "      <td>...</td>\n",
       "      <td>0</td>\n",
       "      <td>0</td>\n",
       "      <td>0</td>\n",
       "      <td>0</td>\n",
       "      <td>0</td>\n",
       "      <td>0</td>\n",
       "      <td>0</td>\n",
       "      <td>0</td>\n",
       "      <td>0</td>\n",
       "      <td>0</td>\n",
       "    </tr>\n",
       "    <tr>\n",
       "      <th>2</th>\n",
       "      <td>0</td>\n",
       "      <td>0</td>\n",
       "      <td>0</td>\n",
       "      <td>0</td>\n",
       "      <td>0</td>\n",
       "      <td>0</td>\n",
       "      <td>0.222222</td>\n",
       "      <td>0.666667</td>\n",
       "      <td>0.0</td>\n",
       "      <td>0</td>\n",
       "      <td>...</td>\n",
       "      <td>0</td>\n",
       "      <td>0</td>\n",
       "      <td>0</td>\n",
       "      <td>0</td>\n",
       "      <td>0</td>\n",
       "      <td>0</td>\n",
       "      <td>0</td>\n",
       "      <td>0</td>\n",
       "      <td>0</td>\n",
       "      <td>0</td>\n",
       "    </tr>\n",
       "  </tbody>\n",
       "</table>\n",
       "<p>3 rows × 103 columns</p>\n",
       "</div>"
      ],
      "text/plain": [
       "   H  He  Li  Be  B  C         N         O    F  Ne  ...  Pu  Am  Cm  Bk  Cf  \\\n",
       "0  0   0   0   0  0  0  0.000000  0.000000  0.0   0  ...   0   0   0   0   0   \n",
       "1  0   0   0   0  0  0  0.000000  0.600000  0.4   0  ...   0   0   0   0   0   \n",
       "2  0   0   0   0  0  0  0.222222  0.666667  0.0   0  ...   0   0   0   0   0   \n",
       "\n",
       "   Es  Fm  Md  No  Lr  \n",
       "0   0   0   0   0   0  \n",
       "1   0   0   0   0   0  \n",
       "2   0   0   0   0   0  \n",
       "\n",
       "[3 rows x 103 columns]"
      ]
     },
     "execution_count": 11,
     "metadata": {},
     "output_type": "execute_result"
    }
   ],
   "source": [
    "data[feat.feature_labels()]"
   ]
  },
  {
   "cell_type": "markdown",
   "id": "b6e55d2d-704f-40d1-8236-2614a7060e53",
   "metadata": {},
   "source": [
    "You can also call `transform` to compute them on demand"
   ]
  },
  {
   "cell_type": "code",
   "execution_count": 12,
   "id": "bbe5e90e-3024-48ae-aa85-22636c4b286b",
   "metadata": {},
   "outputs": [
    {
     "data": {
      "text/plain": [
       "array([[0.        , 0.        , 0.        , 0.        , 0.        ,\n",
       "        0.        , 0.        , 0.        , 0.        , 0.        ,\n",
       "        0.5       , 0.        , 0.        , 0.        , 0.        ,\n",
       "        0.        , 0.5       , 0.        , 0.        , 0.        ,\n",
       "        0.        , 0.        , 0.        , 0.        , 0.        ,\n",
       "        0.        , 0.        , 0.        , 0.        , 0.        ,\n",
       "        0.        , 0.        , 0.        , 0.        , 0.        ,\n",
       "        0.        , 0.        , 0.        , 0.        , 0.        ,\n",
       "        0.        , 0.        , 0.        , 0.        , 0.        ,\n",
       "        0.        , 0.        , 0.        , 0.        , 0.        ,\n",
       "        0.        , 0.        , 0.        , 0.        , 0.        ,\n",
       "        0.        , 0.        , 0.        , 0.        , 0.        ,\n",
       "        0.        , 0.        , 0.        , 0.        , 0.        ,\n",
       "        0.        , 0.        , 0.        , 0.        , 0.        ,\n",
       "        0.        , 0.        , 0.        , 0.        , 0.        ,\n",
       "        0.        , 0.        , 0.        , 0.        , 0.        ,\n",
       "        0.        , 0.        , 0.        , 0.        , 0.        ,\n",
       "        0.        , 0.        , 0.        , 0.        , 0.        ,\n",
       "        0.        , 0.        , 0.        , 0.        , 0.        ,\n",
       "        0.        , 0.        , 0.        , 0.        , 0.        ,\n",
       "        0.        , 0.        , 0.        ],\n",
       "       [0.        , 0.        , 0.        , 0.        , 0.        ,\n",
       "        0.        , 0.        , 0.6       , 0.4       , 0.        ,\n",
       "        0.        , 0.        , 0.        , 0.        , 0.        ,\n",
       "        0.        , 0.        , 0.        , 0.        , 0.        ,\n",
       "        0.        , 0.        , 0.        , 0.        , 0.        ,\n",
       "        0.        , 0.        , 0.        , 0.        , 0.        ,\n",
       "        0.        , 0.        , 0.        , 0.        , 0.        ,\n",
       "        0.        , 0.        , 0.        , 0.        , 0.        ,\n",
       "        0.        , 0.        , 0.        , 0.        , 0.        ,\n",
       "        0.        , 0.        , 0.        , 0.        , 0.        ,\n",
       "        0.        , 0.        , 0.        , 0.        , 0.        ,\n",
       "        0.        , 0.        , 0.        , 0.        , 0.        ,\n",
       "        0.        , 0.        , 0.        , 0.        , 0.        ,\n",
       "        0.        , 0.        , 0.        , 0.        , 0.        ,\n",
       "        0.        , 0.        , 0.        , 0.        , 0.        ,\n",
       "        0.        , 0.        , 0.        , 0.        , 0.        ,\n",
       "        0.        , 0.        , 0.        , 0.        , 0.        ,\n",
       "        0.        , 0.        , 0.        , 0.        , 0.        ,\n",
       "        0.        , 0.        , 0.        , 0.        , 0.        ,\n",
       "        0.        , 0.        , 0.        , 0.        , 0.        ,\n",
       "        0.        , 0.        , 0.        ],\n",
       "       [0.        , 0.        , 0.        , 0.        , 0.        ,\n",
       "        0.        , 0.22222222, 0.66666667, 0.        , 0.        ,\n",
       "        0.        , 0.        , 0.        , 0.        , 0.        ,\n",
       "        0.        , 0.        , 0.        , 0.        , 0.        ,\n",
       "        0.        , 0.        , 0.        , 0.        , 0.        ,\n",
       "        0.        , 0.        , 0.        , 0.        , 0.        ,\n",
       "        0.        , 0.        , 0.        , 0.        , 0.        ,\n",
       "        0.        , 0.        , 0.        , 0.        , 0.        ,\n",
       "        0.        , 0.        , 0.        , 0.        , 0.        ,\n",
       "        0.        , 0.        , 0.        , 0.        , 0.        ,\n",
       "        0.        , 0.        , 0.        , 0.        , 0.        ,\n",
       "        0.11111111, 0.        , 0.        , 0.        , 0.        ,\n",
       "        0.        , 0.        , 0.        , 0.        , 0.        ,\n",
       "        0.        , 0.        , 0.        , 0.        , 0.        ,\n",
       "        0.        , 0.        , 0.        , 0.        , 0.        ,\n",
       "        0.        , 0.        , 0.        , 0.        , 0.        ,\n",
       "        0.        , 0.        , 0.        , 0.        , 0.        ,\n",
       "        0.        , 0.        , 0.        , 0.        , 0.        ,\n",
       "        0.        , 0.        , 0.        , 0.        , 0.        ,\n",
       "        0.        , 0.        , 0.        , 0.        , 0.        ,\n",
       "        0.        , 0.        , 0.        ]])"
      ]
     },
     "execution_count": 12,
     "metadata": {},
     "output_type": "execute_result"
    }
   ],
   "source": [
    "np.array(feat.transform(data['composition']))"
   ]
  },
  {
   "cell_type": "code",
   "execution_count": null,
   "id": "18a2a8b8-f070-4915-9d46-5b846c21d134",
   "metadata": {},
   "outputs": [],
   "source": []
  }
 ],
 "metadata": {
  "kernelspec": {
   "display_name": "Python 3 (ipykernel)",
   "language": "python",
   "name": "python3"
  },
  "language_info": {
   "codemirror_mode": {
    "name": "ipython",
    "version": 3
   },
   "file_extension": ".py",
   "mimetype": "text/x-python",
   "name": "python",
   "nbconvert_exporter": "python",
   "pygments_lexer": "ipython3",
   "version": "3.7.11"
  }
 },
 "nbformat": 4,
 "nbformat_minor": 5
}
